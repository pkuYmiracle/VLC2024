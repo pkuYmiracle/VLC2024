{
 "cells": [
  {
   "cell_type": "code",
   "execution_count": 1,
   "metadata": {},
   "outputs": [],
   "source": [
    "# file gen\n",
    "import os\n",
    "import codecs\n",
    "import random\n",
    "import string\n",
    "\n",
    "def create_file(file_name, size_in_bytes):\n",
    "    with codecs.open(file_name, 'w', 'utf-8') as f:\n",
    "        while os.path.getsize(file_name) < size_in_bytes:\n",
    "            random_string = ''.join(random.choice(string.ascii_letters + string.digits) for _ in range(1024))\n",
    "            f.write(random_string)\n",
    "\n",
    "# 使用方法"
   ]
  },
  {
   "cell_type": "code",
   "execution_count": 2,
   "metadata": {},
   "outputs": [],
   "source": [
    "\n",
    "create_file('test_file/test.txt', 1024 * 5)  # 创建一个5KB的文件"
   ]
  },
  {
   "cell_type": "code",
   "execution_count": 3,
   "metadata": {},
   "outputs": [
    {
     "name": "stdout",
     "output_type": "stream",
     "text": [
      "start client and server\n",
      "start send\n",
      "padding start len:  8192\n",
      "user_name :Alice, len : 40\n",
      "password :b'A\\xf4\\x98\\xaa\\xfa\\xc4\\xde!\\x08\\\\', len : 2048\n",
      "file len : 73728\n",
      "all bits len : 103168\n",
      "start receive\n",
      "user_name :Alice, len : 40\n",
      "password :bytearray(b'A\\xf4\\x98\\xaa\\xfa\\xc4\\xde!\\x08\\\\'), len : 2048\n",
      "file len : 73728\n",
      "Receive file successfully!\n"
     ]
    }
   ],
   "source": [
    "# gen keys\n",
    "import rsa_helper\n",
    "rsa_helper.generate_keys(\"keys/Alice/\")\n",
    "import trans_helper\n",
    "\n",
    "client = trans_helper.Client(\"keys/Alice/\",random_len=10,user_name=\"Alice\", password=\"passwordAlice\")\n",
    "\n",
    "server = trans_helper.Server()\n",
    "server.add_user(\"keys/Alice/\",10,\"Alice\", password=\"passwordAlice\")\n",
    "\n",
    "print(\"start send\")\n",
    "send_bits = client.send_file(\"test_file/test.txt\")\n",
    "\n",
    "send_bits += trans_helper.generate_random_binary_string(233) # 模拟padding后面的一些随机串\n",
    "\n",
    "print(\"start receive\")\n",
    "server.receive_file(\"test_file/test2.txt\",send_bits[1151:])"
   ]
  }
 ],
 "metadata": {
  "kernelspec": {
   "display_name": "base",
   "language": "python",
   "name": "python3"
  },
  "language_info": {
   "codemirror_mode": {
    "name": "ipython",
    "version": 3
   },
   "file_extension": ".py",
   "mimetype": "text/x-python",
   "name": "python",
   "nbconvert_exporter": "python",
   "pygments_lexer": "ipython3",
   "version": "3.1.0"
  }
 },
 "nbformat": 4,
 "nbformat_minor": 2
}
