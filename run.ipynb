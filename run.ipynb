{
 "cells": [
  {
   "cell_type": "code",
   "execution_count": 5,
   "metadata": {},
   "outputs": [],
   "source": [
    "# file gen\n",
    "import os\n",
    "import codecs\n",
    "import random\n",
    "import string\n",
    "\n",
    "def create_file(file_name, size_in_bytes):\n",
    "    with codecs.open(file_name, 'w', 'utf-8') as f:\n",
    "        while os.path.getsize(file_name) < size_in_bytes:\n",
    "            random_string = ''.join(random.choice(string.ascii_letters + string.digits) for _ in range(1024))\n",
    "            f.write(random_string)\n",
    "\n",
    "# 使用方法"
   ]
  },
  {
   "cell_type": "code",
   "execution_count": 6,
   "metadata": {},
   "outputs": [],
   "source": [
    "\n",
    "create_file('test_file/test.txt', 1024 * 5)  # 创建一个1MB的文件"
   ]
  },
  {
   "cell_type": "code",
   "execution_count": 7,
   "metadata": {},
   "outputs": [
    {
     "ename": "KeyboardInterrupt",
     "evalue": "",
     "output_type": "error",
     "traceback": [
      "\u001b[0;31m---------------------------------------------------------------------------\u001b[0m",
      "\u001b[0;31mKeyboardInterrupt\u001b[0m                         Traceback (most recent call last)",
      "\u001b[1;32m/home/ymiracle/workspace/VLC2024/run.ipynb 单元格 3\u001b[0m line \u001b[0;36m3\n\u001b[1;32m      <a href='vscode-notebook-cell://wsl%2Bubuntu/home/ymiracle/workspace/VLC2024/run.ipynb#W5sdnNjb2RlLXJlbW90ZQ%3D%3D?line=0'>1</a>\u001b[0m \u001b[39m# gen keys\u001b[39;00m\n\u001b[1;32m      <a href='vscode-notebook-cell://wsl%2Bubuntu/home/ymiracle/workspace/VLC2024/run.ipynb#W5sdnNjb2RlLXJlbW90ZQ%3D%3D?line=1'>2</a>\u001b[0m \u001b[39mimport\u001b[39;00m \u001b[39mrsa_helper\u001b[39;00m\n\u001b[0;32m----> <a href='vscode-notebook-cell://wsl%2Bubuntu/home/ymiracle/workspace/VLC2024/run.ipynb#W5sdnNjb2RlLXJlbW90ZQ%3D%3D?line=2'>3</a>\u001b[0m rsa_helper\u001b[39m.\u001b[39mgenerate_keys(\u001b[39m\"\u001b[39m\u001b[39mkeys/Alice/\u001b[39m\u001b[39m\"\u001b[39m, \u001b[39m8096\u001b[39m)\n\u001b[1;32m      <a href='vscode-notebook-cell://wsl%2Bubuntu/home/ymiracle/workspace/VLC2024/run.ipynb#W5sdnNjb2RlLXJlbW90ZQ%3D%3D?line=3'>4</a>\u001b[0m \u001b[39mimport\u001b[39;00m \u001b[39mtrans_helper\u001b[39;00m\n\u001b[1;32m      <a href='vscode-notebook-cell://wsl%2Bubuntu/home/ymiracle/workspace/VLC2024/run.ipynb#W5sdnNjb2RlLXJlbW90ZQ%3D%3D?line=4'>5</a>\u001b[0m \u001b[39mprint\u001b[39m(\u001b[39m\"\u001b[39m\u001b[39mstart client and server\u001b[39m\u001b[39m\"\u001b[39m)\n",
      "File \u001b[0;32m~/workspace/VLC2024/rsa_helper.py:4\u001b[0m, in \u001b[0;36mgenerate_keys\u001b[0;34m(file_name, key_len)\u001b[0m\n\u001b[1;32m      3\u001b[0m \u001b[39mdef\u001b[39;00m \u001b[39mgenerate_keys\u001b[39m(file_name, key_len \u001b[39m=\u001b[39m \u001b[39m1024\u001b[39m):\n\u001b[0;32m----> 4\u001b[0m     (publicKey, privateKey) \u001b[39m=\u001b[39m rsa\u001b[39m.\u001b[39mnewkeys(key_len)\n\u001b[1;32m      5\u001b[0m     \u001b[39mwith\u001b[39;00m \u001b[39mopen\u001b[39m(file_name \u001b[39m+\u001b[39m \u001b[39m'\u001b[39m\u001b[39m/publicKey.pem\u001b[39m\u001b[39m'\u001b[39m, \u001b[39m'\u001b[39m\u001b[39mwb\u001b[39m\u001b[39m'\u001b[39m) \u001b[39mas\u001b[39;00m p:\n\u001b[1;32m      6\u001b[0m         p\u001b[39m.\u001b[39mwrite(publicKey\u001b[39m.\u001b[39msave_pkcs1(\u001b[39m'\u001b[39m\u001b[39mPEM\u001b[39m\u001b[39m'\u001b[39m))\n",
      "File \u001b[0;32m~/anaconda3/lib/python3.11/site-packages/rsa/key.py:834\u001b[0m, in \u001b[0;36mnewkeys\u001b[0;34m(nbits, accurate, poolsize, exponent)\u001b[0m\n\u001b[1;32m    831\u001b[0m     getprime_func \u001b[39m=\u001b[39m rsa\u001b[39m.\u001b[39mprime\u001b[39m.\u001b[39mgetprime\n\u001b[1;32m    833\u001b[0m \u001b[39m# Generate the key components\u001b[39;00m\n\u001b[0;32m--> 834\u001b[0m (p, q, e, d) \u001b[39m=\u001b[39m gen_keys(nbits, getprime_func, accurate\u001b[39m=\u001b[39maccurate, exponent\u001b[39m=\u001b[39mexponent)\n\u001b[1;32m    836\u001b[0m \u001b[39m# Create the key objects\u001b[39;00m\n\u001b[1;32m    837\u001b[0m n \u001b[39m=\u001b[39m p \u001b[39m*\u001b[39m q\n",
      "File \u001b[0;32m~/anaconda3/lib/python3.11/site-packages/rsa/key.py:776\u001b[0m, in \u001b[0;36mgen_keys\u001b[0;34m(nbits, getprime_func, accurate, exponent)\u001b[0m\n\u001b[1;32m    773\u001b[0m \u001b[39m# Regenerate p and q values, until calculate_keys doesn't raise a\u001b[39;00m\n\u001b[1;32m    774\u001b[0m \u001b[39m# ValueError.\u001b[39;00m\n\u001b[1;32m    775\u001b[0m \u001b[39mwhile\u001b[39;00m \u001b[39mTrue\u001b[39;00m:\n\u001b[0;32m--> 776\u001b[0m     (p, q) \u001b[39m=\u001b[39m find_p_q(nbits \u001b[39m/\u001b[39m\u001b[39m/\u001b[39m \u001b[39m2\u001b[39m, getprime_func, accurate)\n\u001b[1;32m    777\u001b[0m     \u001b[39mtry\u001b[39;00m:\n\u001b[1;32m    778\u001b[0m         (e, d) \u001b[39m=\u001b[39m calculate_keys_custom_exponent(p, q, exponent\u001b[39m=\u001b[39mexponent)\n",
      "File \u001b[0;32m~/anaconda3/lib/python3.11/site-packages/rsa/key.py:670\u001b[0m, in \u001b[0;36mfind_p_q\u001b[0;34m(nbits, getprime_func, accurate)\u001b[0m\n\u001b[1;32m    667\u001b[0m qbits \u001b[39m=\u001b[39m nbits \u001b[39m-\u001b[39m shift\n\u001b[1;32m    669\u001b[0m \u001b[39m# Choose the two initial primes\u001b[39;00m\n\u001b[0;32m--> 670\u001b[0m p \u001b[39m=\u001b[39m getprime_func(pbits)\n\u001b[1;32m    671\u001b[0m q \u001b[39m=\u001b[39m getprime_func(qbits)\n\u001b[1;32m    673\u001b[0m \u001b[39mdef\u001b[39;00m \u001b[39mis_acceptable\u001b[39m(p: \u001b[39mint\u001b[39m, q: \u001b[39mint\u001b[39m) \u001b[39m-\u001b[39m\u001b[39m>\u001b[39m \u001b[39mbool\u001b[39m:\n",
      "File \u001b[0;32m~/anaconda3/lib/python3.11/site-packages/rsa/prime.py:166\u001b[0m, in \u001b[0;36mgetprime\u001b[0;34m(nbits)\u001b[0m\n\u001b[1;32m    163\u001b[0m integer \u001b[39m=\u001b[39m rsa\u001b[39m.\u001b[39mrandnum\u001b[39m.\u001b[39mread_random_odd_int(nbits)\n\u001b[1;32m    165\u001b[0m \u001b[39m# Test for primeness\u001b[39;00m\n\u001b[0;32m--> 166\u001b[0m \u001b[39mif\u001b[39;00m is_prime(integer):\n\u001b[1;32m    167\u001b[0m     \u001b[39mreturn\u001b[39;00m integer\n",
      "File \u001b[0;32m~/anaconda3/lib/python3.11/site-packages/rsa/prime.py:141\u001b[0m, in \u001b[0;36mis_prime\u001b[0;34m(number)\u001b[0m\n\u001b[1;32m    138\u001b[0m k \u001b[39m=\u001b[39m get_primality_testing_rounds(number)\n\u001b[1;32m    140\u001b[0m \u001b[39m# Run primality testing with (minimum + 1) rounds.\u001b[39;00m\n\u001b[0;32m--> 141\u001b[0m \u001b[39mreturn\u001b[39;00m miller_rabin_primality_testing(number, k \u001b[39m+\u001b[39m \u001b[39m1\u001b[39m)\n",
      "File \u001b[0;32m~/anaconda3/lib/python3.11/site-packages/rsa/prime.py:99\u001b[0m, in \u001b[0;36mmiller_rabin_primality_testing\u001b[0;34m(n, k)\u001b[0m\n\u001b[1;32m     95\u001b[0m \u001b[39mfor\u001b[39;00m _ \u001b[39min\u001b[39;00m \u001b[39mrange\u001b[39m(k):\n\u001b[1;32m     96\u001b[0m     \u001b[39m# Generate random integer a, where 2 <= a <= (n - 2)\u001b[39;00m\n\u001b[1;32m     97\u001b[0m     a \u001b[39m=\u001b[39m rsa\u001b[39m.\u001b[39mrandnum\u001b[39m.\u001b[39mrandint(n \u001b[39m-\u001b[39m \u001b[39m3\u001b[39m) \u001b[39m+\u001b[39m \u001b[39m1\u001b[39m\n\u001b[0;32m---> 99\u001b[0m     x \u001b[39m=\u001b[39m \u001b[39mpow\u001b[39m(a, d, n)\n\u001b[1;32m    100\u001b[0m     \u001b[39mif\u001b[39;00m x \u001b[39m==\u001b[39m \u001b[39m1\u001b[39m \u001b[39mor\u001b[39;00m x \u001b[39m==\u001b[39m n \u001b[39m-\u001b[39m \u001b[39m1\u001b[39m:\n\u001b[1;32m    101\u001b[0m         \u001b[39mcontinue\u001b[39;00m\n",
      "\u001b[0;31mKeyboardInterrupt\u001b[0m: "
     ]
    }
   ],
   "source": [
    "# gen keys\n",
    "import rsa_helper\n",
    "rsa_helper.generate_keys(\"keys/Alice/\", 2048)\n",
    "import trans_helper\n",
    "print(\"start client and server\")\n",
    "client = trans_helper.Client(\"keys/Alice/\",random_len=10,user_name=\"Alice\")\n",
    "\n",
    "server = trans_helper.Server()\n",
    "server.add_user(\"keys/Alice/\",10,\"Alice\")\n",
    "\n",
    "\n",
    "print(\"start send\")\n",
    "send_bits = client.send_file(\"test_file/test.txt\")\n",
    "\n",
    "\n",
    "print(\"start receive\")\n",
    "server.receive_file(\"test_file/test2.txt\",send_bits[1151:])"
   ]
  }
 ],
 "metadata": {
  "kernelspec": {
   "display_name": "base",
   "language": "python",
   "name": "python3"
  },
  "language_info": {
   "codemirror_mode": {
    "name": "ipython",
    "version": 3
   },
   "file_extension": ".py",
   "mimetype": "text/x-python",
   "name": "python",
   "nbconvert_exporter": "python",
   "pygments_lexer": "ipython3",
   "version": "3.11.5"
  }
 },
 "nbformat": 4,
 "nbformat_minor": 2
}
