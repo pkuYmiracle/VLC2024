{
 "cells": [
  {
   "cell_type": "code",
   "execution_count": 1,
   "metadata": {},
   "outputs": [],
   "source": [
    "# file gen\n",
    "import os\n",
    "import codecs\n",
    "import random\n",
    "import string\n",
    "\n",
    "def create_file(file_name, size_in_bytes):\n",
    "    with codecs.open(file_name, 'w', 'utf-8') as f:\n",
    "        while os.path.getsize(file_name) < size_in_bytes:\n",
    "            random_string = ''.join(random.choice(string.ascii_letters + string.digits) for _ in range(1024))\n",
    "            f.write(random_string)\n",
    "\n",
    "# 使用方法"
   ]
  },
  {
   "cell_type": "code",
   "execution_count": 2,
   "metadata": {},
   "outputs": [],
   "source": [
    "\n",
    "create_file('test_file/test.txt', 1024 * 5)  # 创建一个5KB的文件"
   ]
  },
  {
   "cell_type": "code",
   "execution_count": 5,
   "metadata": {},
   "outputs": [
    {
     "name": "stdout",
     "output_type": "stream",
     "text": [
      "start send\n",
      "padding start len:  8192\n",
      "user_name :Alice, len : 40\n",
      "password :b'\\x8f\\xf2\\xbe\\xab\\xfa\\x91\\xb6]\\x12+', len : 1024\n",
      "file len : 73728\n",
      "all bits len : 119856\n",
      "diff rate  0.030978841276198106\n",
      "user_name :Alice, len : 40\n",
      "password :bytearray(b'\\x8f\\xf2\\xbe\\xab\\xfa\\x91\\xb6]\\x12+'), len : 1024\n",
      "file len : 73728\n",
      "Receive file successfully!\n"
     ]
    }
   ],
   "source": [
    "# gen keys\n",
    "import rsa_helper\n",
    "rsa_helper.generate_keys(\"keys/Alice/\")\n",
    "import trans_helper\n",
    "\n",
    "client = trans_helper.Client(\"keys/Alice/\",random_len=10,user_name=\"Alice\", password=\"passwordAlice\")\n",
    "\n",
    "server = trans_helper.Server()\n",
    "server.add_user(\"keys/Alice/\",10,\"Alice\", password=\"passwordAlice\")\n",
    "\n",
    "print(\"start send\")\n",
    "send_bits = client.send_file(\"test_file/test.txt\")\n",
    "\n",
    "\n",
    "before_bits = send_bits\n",
    "for i in range(0, len(send_bits), 16):\n",
    "    pos = random.randint(i,i + 15)\n",
    "    assert(i <= pos <= i + 15)\n",
    "    flag = random.randint(0,1) >= 1\n",
    "    if flag :\n",
    "        send_bits = send_bits[:pos] + '1' +  send_bits[pos + 1 : ]\n",
    "    else:\n",
    "        send_bits = send_bits[:pos] + '0' +  send_bits[pos + 1 : ]\n",
    "\n",
    "\n",
    "diff = sum([send_bits[i] != before_bits[i] for i in range(len(send_bits))])/ len(send_bits)\n",
    "print(\"diff rate \" , diff)\n",
    "server.receive_file(\"test2.txt\",send_bits)"
   ]
  }
 ],
 "metadata": {
  "kernelspec": {
   "display_name": "base",
   "language": "python",
   "name": "python3"
  },
  "language_info": {
   "codemirror_mode": {
    "name": "ipython",
    "version": 3
   },
   "file_extension": ".py",
   "mimetype": "text/x-python",
   "name": "python",
   "nbconvert_exporter": "python",
   "pygments_lexer": "ipython3",
   "version": "3.11.5"
  }
 },
 "nbformat": 4,
 "nbformat_minor": 2
}
