{
 "cells": [
  {
   "cell_type": "code",
   "execution_count": 1,
   "metadata": {},
   "outputs": [],
   "source": [
    "# gen keys\n",
    "import rsa_helper\n",
    "rsa_helper.generate_keys(\"keys/Alice/\")\n"
   ]
  },
  {
   "cell_type": "code",
   "execution_count": 3,
   "metadata": {},
   "outputs": [
    {
     "ename": "AttributeError",
     "evalue": "'bytes' object has no attribute 'encode'",
     "output_type": "error",
     "traceback": [
      "\u001b[0;31m---------------------------------------------------------------------------\u001b[0m",
      "\u001b[0;31mAttributeError\u001b[0m                            Traceback (most recent call last)",
      "\u001b[1;32m/home/ymiracle/workspace/VLC2024/run.ipynb 单元格 2\u001b[0m line \u001b[0;36m3\n\u001b[1;32m      <a href='vscode-notebook-cell://wsl%2Bubuntu/home/ymiracle/workspace/VLC2024/run.ipynb#W1sdnNjb2RlLXJlbW90ZQ%3D%3D?line=0'>1</a>\u001b[0m \u001b[39mimport\u001b[39;00m \u001b[39mtrans_helper\u001b[39;00m\n\u001b[0;32m----> <a href='vscode-notebook-cell://wsl%2Bubuntu/home/ymiracle/workspace/VLC2024/run.ipynb#W1sdnNjb2RlLXJlbW90ZQ%3D%3D?line=2'>3</a>\u001b[0m client \u001b[39m=\u001b[39m trans_helper\u001b[39m.\u001b[39mClient(\u001b[39m\"\u001b[39m\u001b[39mkeys/Alice/\u001b[39m\u001b[39m\"\u001b[39m,random_len\u001b[39m=\u001b[39m\u001b[39m10\u001b[39m,user_name\u001b[39m=\u001b[39m\u001b[39m\"\u001b[39m\u001b[39mAlice\u001b[39m\u001b[39m\"\u001b[39m)\n\u001b[1;32m      <a href='vscode-notebook-cell://wsl%2Bubuntu/home/ymiracle/workspace/VLC2024/run.ipynb#W1sdnNjb2RlLXJlbW90ZQ%3D%3D?line=4'>5</a>\u001b[0m server \u001b[39m=\u001b[39m trans_helper\u001b[39m.\u001b[39mServer()\n\u001b[1;32m      <a href='vscode-notebook-cell://wsl%2Bubuntu/home/ymiracle/workspace/VLC2024/run.ipynb#W1sdnNjb2RlLXJlbW90ZQ%3D%3D?line=5'>6</a>\u001b[0m server\u001b[39m.\u001b[39madd_user(\u001b[39m\"\u001b[39m\u001b[39mkeys/Alice/\u001b[39m\u001b[39m\"\u001b[39m,\u001b[39m10\u001b[39m,\u001b[39m\"\u001b[39m\u001b[39mAlice\u001b[39m\u001b[39m\"\u001b[39m)\n",
      "File \u001b[0;32m~/workspace/VLC2024/trans_helper.py:130\u001b[0m, in \u001b[0;36mClient.__init__\u001b[0;34m(self, key_file, random_len, user_name)\u001b[0m\n\u001b[1;32m    128\u001b[0m \u001b[39mself\u001b[39m\u001b[39m.\u001b[39mrandom_len \u001b[39m=\u001b[39m random_len\n\u001b[1;32m    129\u001b[0m \u001b[39mself\u001b[39m\u001b[39m.\u001b[39muser_name \u001b[39m=\u001b[39m user_name\n\u001b[0;32m--> 130\u001b[0m \u001b[39mself\u001b[39m\u001b[39m.\u001b[39mpassword \u001b[39m=\u001b[39m rsa_helper\u001b[39m.\u001b[39mencrypt(\u001b[39mself\u001b[39m\u001b[39m.\u001b[39muser_name\u001b[39m.\u001b[39mencode(\u001b[39m'\u001b[39m\u001b[39mutf-8\u001b[39m\u001b[39m'\u001b[39m), \u001b[39mself\u001b[39m\u001b[39m.\u001b[39mpublicKey)\n",
      "File \u001b[0;32m~/workspace/VLC2024/rsa_helper.py:18\u001b[0m, in \u001b[0;36mencrypt\u001b[0;34m(message, key)\u001b[0m\n\u001b[1;32m     17\u001b[0m \u001b[39mdef\u001b[39;00m \u001b[39mencrypt\u001b[39m(message, key):\n\u001b[0;32m---> 18\u001b[0m     \u001b[39mreturn\u001b[39;00m rsa\u001b[39m.\u001b[39mencrypt(message\u001b[39m.\u001b[39mencode(\u001b[39m'\u001b[39m\u001b[39mutf-8\u001b[39m\u001b[39m'\u001b[39m), key)\n",
      "\u001b[0;31mAttributeError\u001b[0m: 'bytes' object has no attribute 'encode'"
     ]
    }
   ],
   "source": [
    "import trans_helper\n",
    "\n",
    "client = trans_helper.Client(\"keys/Alice/\",random_len=10,user_name=\"Alice\")\n",
    "\n",
    "server = trans_helper.Server()\n",
    "server.add_user(\"keys/Alice/\",10,\"Alice\")"
   ]
  },
  {
   "cell_type": "code",
   "execution_count": null,
   "metadata": {},
   "outputs": [],
   "source": [
    "send_bits = client.send(\"text.txt\")"
   ]
  },
  {
   "cell_type": "code",
   "execution_count": null,
   "metadata": {},
   "outputs": [],
   "source": [
    "receive_bits = pass"
   ]
  },
  {
   "cell_type": "code",
   "execution_count": null,
   "metadata": {},
   "outputs": [],
   "source": [
    "server.receive_file(\"text.txt\",receive_bits)"
   ]
  }
 ],
 "metadata": {
  "kernelspec": {
   "display_name": "base",
   "language": "python",
   "name": "python3"
  },
  "language_info": {
   "codemirror_mode": {
    "name": "ipython",
    "version": 3
   },
   "file_extension": ".py",
   "mimetype": "text/x-python",
   "name": "python",
   "nbconvert_exporter": "python",
   "pygments_lexer": "ipython3",
   "version": "3.11.5"
  }
 },
 "nbformat": 4,
 "nbformat_minor": 2
}
