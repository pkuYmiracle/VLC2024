{
 "cells": [
  {
   "cell_type": "code",
   "execution_count": null,
   "metadata": {},
   "outputs": [],
   "source": [
    "# gen keys\n",
    "import rsa_helper\n",
    "rsa_helper.generate_keys(\"keys/Alice/\")\n"
   ]
  },
  {
   "cell_type": "code",
   "execution_count": null,
   "metadata": {},
   "outputs": [],
   "source": [
    "import trans_helper\n",
    "\n",
    "client = trans_helper.Client(\"keys/Alice/\",random_len=10,user_name=\"Alice\")\n",
    "\n",
    "server = trans_helper.Server()\n",
    "server.add_user(\"keys/Alice/\",10,\"Alice\")"
   ]
  },
  {
   "cell_type": "code",
   "execution_count": null,
   "metadata": {},
   "outputs": [],
   "source": [
    "send_bits = client.send(\"text.txt\")"
   ]
  },
  {
   "cell_type": "code",
   "execution_count": null,
   "metadata": {},
   "outputs": [],
   "source": [
    "receive_bits = pass"
   ]
  },
  {
   "cell_type": "code",
   "execution_count": null,
   "metadata": {},
   "outputs": [],
   "source": [
    "server.receive_file(\"text.txt\",receive_bits)"
   ]
  }
 ],
 "metadata": {
  "language_info": {
   "name": "python"
  }
 },
 "nbformat": 4,
 "nbformat_minor": 2
}
